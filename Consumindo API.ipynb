# CONSUMINDO API DE CEP 
def main():
  import requests 
  print('########################')
  print('##### Consulta CEP #####')
  print('########################')
  print('')
  cepInput = input('Digite o CEP para consultar:')

  if len(cepInput) != 8:
    print(' O CEP é invalido!')
    exit()
  request = requests.get('https://viacep.com.br/ws/{}/json/'.format(cepInput))
  adressData = request.json()
  print('CEP: {}'.format(adressData['cep']))
  print('Logradouro: {}'.format(adressData['logradouro']))
  print('Estado: {}'.format(adressData['uf']))
  print('Cidade: {}'.format(adressData['localidade']))
  print('Bairro: {}'.format(adressData['bairro']))
  print('Complemento: {}'.format(adressData['complemento']))

if __name__ == '__main__':
    main()

